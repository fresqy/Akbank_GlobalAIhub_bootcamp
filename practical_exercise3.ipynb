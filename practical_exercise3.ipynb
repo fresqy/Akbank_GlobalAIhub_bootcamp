{
  "nbformat": 4,
  "nbformat_minor": 0,
  "metadata": {
    "colab": {
      "provenance": []
    },
    "kernelspec": {
      "name": "python3",
      "display_name": "Python 3"
    },
    "language_info": {
      "name": "python"
    }
  },
  "cells": [
    {
      "cell_type": "markdown",
      "source": [
        "# Practical exercise 3:  Help Julia on her trip to New York\n",
        "\n",
        "A friend of yours, Julia, goes to New York, US to visit her brother who is studying there. As soon as she lands at the JFK airport, she notices that the US is another world. The distance is measured in miles, mass is measured in pounds, and the temperature is measured in Fahrenheit. She is having trouble converting these values into metric units. Another problem is that she cannot remember the conversion ratios. Luckily, she has you as a friend. In this practical exercise, you will write a number of functions to help your friend in converting these values. \n"
      ],
      "metadata": {
        "id": "tBDsFMQwBs6Z"
      }
    },
    {
      "cell_type": "markdown",
      "source": [
        "## Warm up\n",
        "\n",
        "Your first task will be to write a greetings function for Julia so she can say hello to her brother Sam.\n",
        "\n",
        "📌 Do you remember the greetings function? This function takes a name as an argument and returns \"Hello\" + name. \n",
        "\n",
        "Let's start with this function!"
      ],
      "metadata": {
        "id": "ymULFKyosM3d"
      }
    },
    {
      "cell_type": "code",
      "source": [
        "#Please write a greetings function\n",
        "def greetings(name):\n",
        "  print(\"Hello\", name)\n"
      ],
      "metadata": {
        "id": "0w6HGZBvsvru"
      },
      "execution_count": null,
      "outputs": []
    },
    {
      "cell_type": "markdown",
      "source": [
        "Now call this function to greet Sam!"
      ],
      "metadata": {
        "id": "_FciCSMIwDUv"
      }
    },
    {
      "cell_type": "code",
      "source": [
        "#Call the greetings function to greet Sam\n",
        "greetings(\"Sam\")"
      ],
      "metadata": {
        "id": "fzGQtlg-wKF9",
        "colab": {
          "base_uri": "https://localhost:8080/"
        },
        "outputId": "68667a02-b10b-46af-e8bd-17824a2db814"
      },
      "execution_count": null,
      "outputs": [
        {
          "output_type": "stream",
          "name": "stdout",
          "text": [
            "hello Sam\n"
          ]
        }
      ]
    },
    {
      "cell_type": "markdown",
      "source": [
        "At the duty-free shops, Julia is comparing the prices of chocolates at different stores. She needs a difference calculator between two numbers. Can you create a function to calculate the difference for her?\n",
        "\n",
        "📌 Similar to the example we saw in the lesson earlier, let's have a function that takes 2 numbers as an input and returns their difference."
      ],
      "metadata": {
        "id": "cnWVzlo1vBy8"
      }
    },
    {
      "cell_type": "code",
      "source": [
        " #Write a function that calculates the difference between two numbers\n",
        "def difference(number1, number2):\n",
        "  print(number1 - number2)"
      ],
      "metadata": {
        "id": "8S1F2r8NtEoN"
      },
      "execution_count": null,
      "outputs": []
    },
    {
      "cell_type": "markdown",
      "source": [
        "At one store the price of chocolate is 14.99 dollars and at another one it is 12.49 dollars. Let's call the difference function to compute the difference of those two prices."
      ],
      "metadata": {
        "id": "FvXeQMnXwa0P"
      }
    },
    {
      "cell_type": "code",
      "source": [
        "#Call the difference function to calculate the difference between the chocolate prices\n",
        "difference(14.99, 12.49)"
      ],
      "metadata": {
        "id": "b9IrldJDw0u3",
        "colab": {
          "base_uri": "https://localhost:8080/"
        },
        "outputId": "3955f772-0f2b-4a6b-9c22-b6ce3c47ca43"
      },
      "execution_count": null,
      "outputs": [
        {
          "output_type": "stream",
          "name": "stdout",
          "text": [
            "2.5\n"
          ]
        }
      ]
    },
    {
      "cell_type": "markdown",
      "source": [
        "## Julia is too lazy to introduce herself over and over again\n",
        "\n",
        "In a new city, Julia will meet a lot of new people. To make her life easier, we can write a function for her so that she doesn’t have to do this over and over again… \n",
        "\n",
        "This function should include Julia's birthday, the place she was born and the place she currently lives. \n",
        "\n",
        "Julia has already defined 3 variables with her personal information.\n"
      ],
      "metadata": {
        "id": "P6cHRk46y0E5"
      }
    },
    {
      "cell_type": "code",
      "source": [
        "#Run this cell to store Julia's personal information in variables\n",
        "birthday = \"4 September 1996\"\n",
        "place_of_birth = \"London\"\n",
        "current_city = \"London\""
      ],
      "metadata": {
        "id": "ucM2E4YXzHUM"
      },
      "execution_count": 13,
      "outputs": []
    },
    {
      "cell_type": "markdown",
      "source": [
        "Now, it's your turn to create a function *print_introduction* that takes these 3 arguments we defined above and print the following sentence:\n",
        "\n",
        "\"I was born on *birthday* in *place of birth* and now I live in *where she currently lives*.\"\n",
        "\n"
      ],
      "metadata": {
        "id": "QQIXQsmRwGqB"
      }
    },
    {
      "cell_type": "code",
      "source": [
        "#Write an introduction function that takes birthday, place_of_birth and current_city as arguments\n",
        "#and prints the sentence above\n",
        "def intro(birthday, place_of_birth, current_city):\n",
        "  print(\"ı was born on\", birthday, \"in\", place_of_birth, \"and now I live in\", current_city)"
      ],
      "metadata": {
        "id": "dvTr4HR4wF4n"
      },
      "execution_count": 4,
      "outputs": []
    },
    {
      "cell_type": "markdown",
      "source": [
        "Julia wants to introduce herself to a person she met at the airport. Let’s see if our program works:"
      ],
      "metadata": {
        "id": "Z-qNc3H-xNq2"
      }
    },
    {
      "cell_type": "code",
      "source": [
        "#Call the introduction function \n",
        "intro(\"4 September 1996\", \"London\", \"London\")\n"
      ],
      "metadata": {
        "id": "SM5_G8IJx-sd",
        "colab": {
          "base_uri": "https://localhost:8080/"
        },
        "outputId": "69aaae1a-5ae1-4149-e4f5-c8a7738b4dd5"
      },
      "execution_count": 5,
      "outputs": [
        {
          "output_type": "stream",
          "name": "stdout",
          "text": [
            "ı was born on 4 September 1996 in London and now I live in London\n"
          ]
        }
      ]
    },
    {
      "cell_type": "markdown",
      "source": [
        "While introducing herself, she noticed that from now on she has to change her current city! Can you help her by  creating a function that takes a new city name as an argument and changes the *current_city*?\n",
        "\n",
        "\n",
        "📌 Remember that current_city is not in the scope of this function."
      ],
      "metadata": {
        "id": "Abqum11Yzrdf"
      }
    },
    {
      "cell_type": "code",
      "source": [
        "#Write a function to change the current_city \n",
        "def change_city(new_city):\n",
        "  global currrent_city\n",
        "  current_city = new_city\n",
        "  print(\"Now your city is \", new_city)"
      ],
      "metadata": {
        "id": "SACKeUY7zpcj"
      },
      "execution_count": 16,
      "outputs": []
    },
    {
      "cell_type": "markdown",
      "source": [
        "So now, before introducing herself again, you help Julia change her current city to New York. Use the two functions above and print the introduction again."
      ],
      "metadata": {
        "id": "WQqKexnw1GQu"
      }
    },
    {
      "cell_type": "code",
      "source": [
        "#Change current_city to \"New York\"\n",
        "change_city(\"New York\")\n",
        "\n",
        "#Call the introduction function \n",
        "intro(\"4 September 1996\", \"London\", \"New York\")"
      ],
      "metadata": {
        "id": "2DWdXbw50uTg",
        "colab": {
          "base_uri": "https://localhost:8080/"
        },
        "outputId": "58408145-f1f8-48d5-a166-1fccb68dad76"
      },
      "execution_count": 18,
      "outputs": [
        {
          "output_type": "stream",
          "name": "stdout",
          "text": [
            "Now your city is  New York\n",
            "ı was born on 4 September 1996 in London and now I live in New York\n"
          ]
        }
      ]
    },
    {
      "cell_type": "markdown",
      "source": [
        "#Julia needs a weather forecast\n",
        "\n",
        "Julia finally left the airport and noticed that the weather is not as she expected. It's always good to know the weather forecast in the new city. \n",
        "\n",
        "You are provided with a 7 days' weather forecast. In the lesson, we discussed how you can construct a line plot using seaborn. Julia finds line plots confusing, try to create a bar plot for her to find out what the weather will be for the next 7 days. \n",
        "\n",
        "📌 Use the *barplot* method from the *seaborn* library with the data below."
      ],
      "metadata": {
        "id": "8VKksEqq3dmF"
      }
    },
    {
      "cell_type": "code",
      "source": [
        "#We need to import the seaborn library\n",
        "import seaborn as sns\n",
        "import matplotlib.pyplot as plt\n",
        "#Weather data \n",
        "days = [1, 2, 3, 4, 5, 6, 7]\n",
        "avg_temperature = [14,9,3,11,18,27,6]\n",
        "\n",
        "#Create a bar plot for the given data\n",
        "sns.barplot(x=days, y=avg_temperature)\n",
        "plt.xlabel(\"Days\")\n",
        "plt.ylabel(\"Temperature (°C)\")\n",
        "plt.title(\"7 Days' Weather Forecast\")\n",
        "\n",
        "plt.show()"
      ],
      "metadata": {
        "id": "6kEoQenH3Nxj",
        "colab": {
          "base_uri": "https://localhost:8080/",
          "height": 295
        },
        "outputId": "8beb6636-4cab-4b46-8604-69dcf90407c0"
      },
      "execution_count": 23,
      "outputs": [
        {
          "output_type": "display_data",
          "data": {
            "text/plain": [
              "<Figure size 432x288 with 1 Axes>"
            ],
            "image/png": "[encoded data removed]"
          },
          "metadata": {
            "needs_background": "light"
          }
        }
      ]
    },
    {
      "cell_type": "markdown",
      "source": [
        "# Now let's define some functions for conversion\n",
        "\n",
        "The reason Julia primarily contacted you was for some conversion functions. Now, we will define some functions that will help Julia to convert quantities.\n",
        "\n",
        "We should start by importing the libraries that we might need during our implementation. Here we import the library math, but everyone has a different approach when it comes to coding. Keep in mind that depending on your technique, importing other libraries could be necessary. "
      ],
      "metadata": {
        "id": "9k6Adf0ekycL"
      }
    },
    {
      "cell_type": "code",
      "execution_count": 27,
      "metadata": {
        "id": "RKguN4ehBceY"
      },
      "outputs": [],
      "source": [
        "# import library\n",
        "import math"
      ]
    },
    {
      "cell_type": "markdown",
      "source": [
        "## Mile - Kilometer\n",
        "\n",
        "Julia looked at the road sign and she sees that city center is 12 miles away from the airport. First, we will write a function for converting miles to kilometers. We know that **1 mile = 1.60934 kilometers**. We will use this information to write the function.\n",
        "\n",
        "In this part, you will write 2 functions: \n",
        "\n",
        "\n",
        "1.   **mile2km**: this function will take mile as an argument and return equivalent kilometers.\n",
        "2.   **km2mile**: this function will take km as an argument and return equivalent miles.\n",
        "\n",
        "\n",
        "\n",
        "💣 Note: It is a naming convention to use '2' between the two quantities which indicates the conversion from the first quantity to the second quantity. "
      ],
      "metadata": {
        "id": "A-WnWazBCtdR"
      }
    },
    {
      "cell_type": "code",
      "source": [
        "def mile2km(miles):\n",
        "  #Write a function to convert miles to kilometers \n",
        "  kilometers = miles * 1.60934\n",
        "  return kilometers\n",
        "\n",
        "def km2mile(km):\n",
        "  #Write a function to convert kilometers to miles\n",
        "  miles = km / 1.60934\n",
        "  return miles"
      ],
      "metadata": {
        "id": "tc-dTNWcCrTd"
      },
      "execution_count": 37,
      "outputs": []
    },
    {
      "cell_type": "markdown",
      "source": [
        "You can run this cell to test whether your program works or not:"
      ],
      "metadata": {
        "id": "SIm3aHkXx9fo"
      }
    },
    {
      "cell_type": "code",
      "source": [
        "### RUN THIS CELL TO TEST YOUR IMPLEMENTATIO\n",
        "\n",
        "assert math.isclose(mile2km(132.2), 212.754748, abs_tol=1e-5), \"Test failed for mile2km!\"\n",
        "assert math.isclose(km2mile(48.44), 30.099295, abs_tol=1e-5), \"Test failed for km2mile!\"\n",
        "print(\"Test passed!\")"
      ],
      "metadata": {
        "id": "8Ig5yG44D_TC",
        "colab": {
          "base_uri": "https://localhost:8080/"
        },
        "outputId": "2b9fa824-848b-4738-886c-fb027ef2d9ea"
      },
      "execution_count": 38,
      "outputs": [
        {
          "output_type": "stream",
          "name": "stdout",
          "text": [
            "Test passed!\n"
          ]
        }
      ]
    },
    {
      "cell_type": "markdown",
      "source": [
        "Now let’s convert the distance so that Julia actually understands it. Use the function mile2km() to convert 12 miles to equivalent kilometers."
      ],
      "metadata": {
        "id": "0yk8zi3-2Ald"
      }
    },
    {
      "cell_type": "code",
      "source": [
        "#Call the mile2km function to convert 12 miles\n",
        "mile2km(12)"
      ],
      "metadata": {
        "id": "foVh1VX02OF6",
        "colab": {
          "base_uri": "https://localhost:8080/"
        },
        "outputId": "2cc253d3-50c6-4b5a-cba6-e2d934ce9f95"
      },
      "execution_count": 39,
      "outputs": [
        {
          "output_type": "execute_result",
          "data": {
            "text/plain": [
              "19.31208"
            ]
          },
          "metadata": {},
          "execution_count": 39
        }
      ]
    },
    {
      "cell_type": "markdown",
      "source": [
        "## Pound - Kilogram\n",
        "\n",
        "On her way, Julia got hungry and decided to buy some fruits. But she is confused by the weight units. She wants to buy 2 kilograms of apples for her brother. Therefore, she asked you to write a function that converts pounds to kilograms and kilograms to pounds. In this part, you will write only one function which is capable of converting pounds to kilograms and also from kilograms to pounds.\n",
        "\n",
        "**1 pound =  0.45359 kilograms**\n",
        "\n",
        "You will implement only one function. This function will return the converted quantity. There will be 2 arguments of this function:\n",
        "\n",
        "\n",
        "1.   *quantity*: the magnitude of the measurement can either be an integer or a float. It can be pounds or kilograms.\n",
        "2.   *mode*: this a string that indicates which conversion has to be computed. It can be either \"pound2kg\" or \"kg2pound\". \n",
        "\n",
        "📌 You can use if and else statements to implement this.\n",
        "\n",
        "💣 Note: In the code we prepared, you can see the assert command. This command is there to make sure only valid arguments are passed. Here we can have if and else statements in the function and in any case where the mode is not pound2kg, the else block will be executed. Even if you accidentally have a typo in “pound2kg”. Therefore, it is important to make sure that the input arguments are valid.\n",
        "\n",
        "💣💣 Tip: Always use assert command to ensure that your program runs without any errors. It is a common practice for Machine Learning engineers to ensure if the sizes of matrices are as expected. To use the assert command, write the keyword \"assert\" followed by a condition and then a string to indicate if the assertion has failed.\n"
      ],
      "metadata": {
        "id": "WhnkMW7MIfOv"
      }
    },
    {
      "cell_type": "code",
      "source": [
        "def pound_kilogram(quantity, mode):\n",
        "  assert mode == \"pound2kg\" or mode == \"kg2pound\", \"Invalid argument!\"\n",
        "  #Here the assert command ensures that a valid mode is given as argument.\n",
        "  \n",
        "    #Write a statement to convert pound to kilogram for mode \"pound2kg\"\n",
        "\n",
        "  if mode == \"pound2kg\":\n",
        "      return quantity * 0.45359\n",
        "\n",
        "    #Else it should convert kilogram to pound\n",
        "  else:\n",
        "      return quantity / 0.45359\n"
      ],
      "metadata": {
        "id": "PUSYjYCuHbg4"
      },
      "execution_count": 44,
      "outputs": []
    },
    {
      "cell_type": "markdown",
      "source": [
        "You can run this cell to test whether your program works or not:"
      ],
      "metadata": {
        "id": "157pYGmtx_QZ"
      }
    },
    {
      "cell_type": "code",
      "source": [
        "### RUN THIS CELL TO TEST YOUR IMPLEMENTATION\n",
        "assert math.isclose(pound_kilogram(2.20462, \"pound2kg\"), 1, abs_tol=1e-5), \"Test failed for mode \\\"pound2kg\\\"!\"\n",
        "assert math.isclose(pound_kilogram(43, \"kg2pound\"), 94.79926, abs_tol=1e-5), \"Test failed for mode \\\"kg2pound\\\"!\"\n",
        "print(\"Test passed!\")"
      ],
      "metadata": {
        "id": "eqGyZKzVKQeF",
        "colab": {
          "base_uri": "https://localhost:8080/"
        },
        "outputId": "51893fd8-d5f3-4e1d-a65b-7fb2180f0d74"
      },
      "execution_count": 45,
      "outputs": [
        {
          "output_type": "stream",
          "name": "stdout",
          "text": [
            "Test passed!\n"
          ]
        }
      ]
    },
    {
      "cell_type": "markdown",
      "source": [
        "Julia wants to buy 2 kilograms of apples, so use the pound_kilogram() function to convert 2 kilograms to equivalent pounds."
      ],
      "metadata": {
        "id": "r9TdR_ZA23SY"
      }
    },
    {
      "cell_type": "code",
      "source": [
        "#Call the function to convert 2 kilograms to pound\n",
        "pound_kilogram(2, \"kg2pound\")"
      ],
      "metadata": {
        "id": "tY6NLJ7B22LM",
        "colab": {
          "base_uri": "https://localhost:8080/"
        },
        "outputId": "440f5181-d7e1-4a82-92db-601d50ccdbb7"
      },
      "execution_count": 47,
      "outputs": [
        {
          "output_type": "execute_result",
          "data": {
            "text/plain": [
              "4.409268281928614"
            ]
          },
          "metadata": {},
          "execution_count": 47
        }
      ]
    },
    {
      "cell_type": "markdown",
      "source": [
        "## Fahrenheit-Celsius\n",
        "\n",
        "You might have noticed from the barplot above that the temperature in New York is unpredictable. And even worse for Julia, the temperatures are in Fahrenheit. In this part, you will write a function that will convert °C to °F and vice versa. The conversion formulas between these quantities are as follows:\n",
        "\n",
        "**Formula: °C = (°F − 32) × 5/9** <br>\n",
        "**Formula: °F = (°C x 9/5) + 32** \n",
        "\n",
        "You will implement only one function. This function will return the converted quantity. There will be 2 arguments of this function:\n",
        "\n",
        "\n",
        "\n",
        "1.   *temperature*: the magnitude of the measurement can either be an integer or a float. It can be in Celsius or Fahrenheit.\n",
        "2.   *mode*: this a string that indicates which conversion has to be computed. It can be either \"f2c\" or \"c2f\". \n",
        "\n",
        "📌 You can use if and else statements to implement this.\n",
        "\n",
        "\n",
        "💣 Note: The assert command is there to make sure only valid arguments are passed."
      ],
      "metadata": {
        "id": "EDtDpPC6Ptnt"
      }
    },
    {
      "cell_type": "code",
      "source": [
        "def fahrenheit_celcius(temperature, mode):\n",
        "  assert mode == \"f2c\" or mode == \"c2f\", \"Invalid argument!\"\n",
        "  # Write a statement to convert Fahrenheit to Celsius or Celsius to Fahrenheit\n",
        "  if mode == \"f2c\":\n",
        "      return (temperature - 32) * 5 / 9\n",
        "  else:\n",
        "      return (temperature * 9 / 5) + 32"
      ],
      "metadata": {
        "id": "CD4echmtPsec"
      },
      "execution_count": 50,
      "outputs": []
    },
    {
      "cell_type": "markdown",
      "source": [
        "You can run this cell to test whether your program works or not:"
      ],
      "metadata": {
        "id": "TPyI23iIyBIS"
      }
    },
    {
      "cell_type": "code",
      "source": [
        "### RUN THIS CELL TO TEST YOUR IMPLEMENTATION\n",
        "assert math.isclose(fahrenheit_celcius(98.6, \"f2c\"), 37.0, abs_tol=1e-5), \"Test failed for mode \\\"f2c\\\"!\"\n",
        "assert math.isclose(fahrenheit_celcius(42, \"c2f\"), 107.6, abs_tol=1e-5), \"Test failed for mode \\\"c2f\\\"!\"\n",
        "print(\"Test passed!\")"
      ],
      "metadata": {
        "id": "b3RkUDHlgQDb",
        "colab": {
          "base_uri": "https://localhost:8080/"
        },
        "outputId": "22b56e76-7a16-48f3-a8bc-508a2f1fd8ca"
      },
      "execution_count": 51,
      "outputs": [
        {
          "output_type": "stream",
          "name": "stdout",
          "text": [
            "Test passed!\n"
          ]
        }
      ]
    },
    {
      "cell_type": "markdown",
      "source": [
        "The temperature today is 88° Fahrenheit. Use the function defined above to convert it to equivalent °C."
      ],
      "metadata": {
        "id": "aW8yRDOwy-uG"
      }
    },
    {
      "cell_type": "code",
      "source": [
        "#Call the function to convert 88° Fahrenheit to Celsius\n",
        "fahrenheit_celcius(88, \"f2c\")"
      ],
      "metadata": {
        "id": "h1Jx_0FWzTwV",
        "colab": {
          "base_uri": "https://localhost:8080/"
        },
        "outputId": "d1bf1251-62b5-4cea-8232-7a9b319b496d"
      },
      "execution_count": 53,
      "outputs": [
        {
          "output_type": "execute_result",
          "data": {
            "text/plain": [
              "31.11111111111111"
            ]
          },
          "metadata": {},
          "execution_count": 53
        }
      ]
    },
    {
      "cell_type": "markdown",
      "source": [
        "This was a rough start for Julia, but thanks to your help she will survive her stay in New York! 😀"
      ],
      "metadata": {
        "id": "EKak3XKRzdps"
      }
    }
  ]
}
